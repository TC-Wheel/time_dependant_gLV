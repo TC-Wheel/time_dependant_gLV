{
 "cells": [
  {
   "cell_type": "code",
   "execution_count": 4,
   "id": "ace6401a",
   "metadata": {},
   "outputs": [],
   "source": [
    "# from armored.models import *\n",
    "# from armored.preprocessing import *\n",
    "\n",
    "import numpy as np\n",
    "from scipy.integrate import solve_ivp\n",
    "\n",
    "import matplotlib.pyplot as plt"
   ]
  },
  {
   "cell_type": "code",
   "execution_count": 26,
   "id": "24357d4d",
   "metadata": {},
   "outputs": [
    {
     "name": "stdout",
     "output_type": "stream",
     "text": [
      "first A = array([[-0.22207038, -1.19708948],\n",
      "       [ 1.47551575,  1.70878838]])\n",
      "0 A = array([[-1.        , -1.19708948],\n",
      "       [ 1.47551575,  1.70878838]])\n",
      "1 A = array([[-1.        , -1.19708948],\n",
      "       [ 1.47551575, -1.        ]])\n"
     ]
    }
   ],
   "source": [
    "# growth rates\n",
    "r = np.array([.2, .3])\n",
    "\n",
    "# A[i,j] interaction of species j on species i \n",
    "A = np.random.randn(2,2)\n",
    "print(f'first {A = }')\n",
    "#we just are making a random interaction matrix...?\n",
    "#what exactly is A doing here?\n",
    "\n",
    "for i in range(len(r)):\n",
    "    A[i,i] = -1. #What exactly are we doing to a?\n",
    "    print(f'{i} {A = }') #we're putting -1s in the diagonals..?\n",
    "    #why?"
   ]
  },
  {
   "cell_type": "code",
   "execution_count": 17,
   "id": "e921f960",
   "metadata": {},
   "outputs": [],
   "source": [
    "def dxdt(t, x):\n",
    "    return x*(r + A@x)\n",
    "#I'm guessing this is just the gLV differential equation... right?"
   ]
  },
  {
   "cell_type": "markdown",
   "id": "f3f4151c",
   "metadata": {},
   "source": [
    "$$ \\frac{d}{dt} x_i = x_i * ( r_i + \\sum_{j=1}^n A_{i,j} * x_j) $$"
   ]
  },
  {
   "cell_type": "code",
   "execution_count": 27,
   "id": "ef2ac0a9",
   "metadata": {},
   "outputs": [
    {
     "name": "stdout",
     "output_type": "stream",
     "text": [
      "t_eval = array([ 0., 12., 24., 36., 48.])\n"
     ]
    }
   ],
   "source": [
    "#this is an array that contains 5 numbers by steps of 12\n",
    "t_eval = np.linspace(0, 48, 5)\n",
    "print(f'{t_eval = }')\n",
    "x0 = np.array([.01, .01]) #this is the intital conditions?\n",
    "\n",
    "#this is where we actually integrate our equation above\n",
    "#I guess integrating which is giving us the possible future \n",
    "#that has our initial conditions... ?\n",
    "x = solve_ivp(dxdt, t_span=(0, t_eval[-1]), y0=x0, t_eval=t_eval)"
   ]
  },
  {
   "cell_type": "code",
   "execution_count": 19,
   "id": "22f940ac",
   "metadata": {},
   "outputs": [
    {
     "data": {
      "text/plain": [
       "(2, 5)"
      ]
     },
     "execution_count": 19,
     "metadata": {},
     "output_type": "execute_result"
    }
   ],
   "source": [
    "x.y.shape"
   ]
  },
  {
   "cell_type": "code",
   "execution_count": 15,
   "id": "f9fad1ef",
   "metadata": {},
   "outputs": [
    {
     "data": {
      "image/png": "[encoded data removed]",
      "text/plain": [
       "<Figure size 1000x500 with 1 Axes>"
      ]
     },
     "metadata": {},
     "output_type": "display_data"
    }
   ],
   "source": [
    "#plt.plot(x.y.T) #why are there dots...?\n",
    "import math\n",
    "\n",
    "# x = np.linspace(0,2)\n",
    "# y = (3*math.e**(-0.5 * x) * -math.cos((2*x)-1)+x**0.4)\n",
    "\n",
    "# plt.plot(x,y)\n",
    "\n",
    "\n",
    "x = np.linspace(-2, 2, 100)\n",
    "y = (3*(math.e**(-0.5 * x)))\n",
    " \n",
    "fig = plt.figure(figsize = (10, 5))\n",
    "# Create the plot\n",
    "plt.plot(x, y)\n",
    "plt.show()\n",
    "\n",
    "#try creating artifical data and have the plot fit to that data."
   ]
  }
 ],
 "metadata": {
  "kernelspec": {
   "display_name": "Python 3.11.1 ('py311venv': venv)",
   "language": "python",
   "name": "python3"
  },
  "language_info": {
   "codemirror_mode": {
    "name": "ipython",
    "version": 3
   },
   "file_extension": ".py",
   "mimetype": "text/x-python",
   "name": "python",
   "nbconvert_exporter": "python",
   "pygments_lexer": "ipython3",
   "version": "3.11.1 (tags/v3.11.1:a7a450f, Dec  6 2022, 19:58:39) [MSC v.1934 64 bit (AMD64)]"
  },
  "vscode": {
   "interpreter": {
    "hash": "f451f3969a5f49cf506d3c61b1cc4ebe3017465f2489e297bb7f2d40f74a1239"
   }
  }
 },
 "nbformat": 4,
 "nbformat_minor": 5
}
